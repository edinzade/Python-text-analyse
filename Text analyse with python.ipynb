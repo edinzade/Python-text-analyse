{
 "cells": [
  {
   "cell_type": "code",
   "execution_count": null,
   "metadata": {},
   "outputs": [],
   "source": [
    "#Text Analysis in Python 3"
   ]
  },
  {
   "cell_type": "code",
   "execution_count": 50,
   "metadata": {},
   "outputs": [],
   "source": [
    "text = \"This is my test text. We're keeping this text short to keep things manageable.\"\n",
    "text = text.lower()"
   ]
  },
  {
   "cell_type": "code",
   "execution_count": 47,
   "metadata": {},
   "outputs": [
    {
     "data": {
      "text/plain": [
       "\"this is my test text. we're keeping this text short to keep things manageable.\""
      ]
     },
     "execution_count": 47,
     "metadata": {},
     "output_type": "execute_result"
    }
   ],
   "source": [
    "text"
   ]
  },
  {
   "cell_type": "code",
   "execution_count": 51,
   "metadata": {},
   "outputs": [],
   "source": [
    "#Word Frequency in Text"
   ]
  },
  {
   "cell_type": "code",
   "execution_count": 52,
   "metadata": {},
   "outputs": [],
   "source": [
    "from collections import Counter "
   ]
  },
  {
   "cell_type": "code",
   "execution_count": 64,
   "metadata": {},
   "outputs": [],
   "source": [
    "def count_words(text):                   #counts word frequency \n",
    "    skips = [\".\", \", \", \":\", \";\", \"'\", '\"'] \n",
    "    for ch in skips: \n",
    "        text = text.replace(ch, \" \") \n",
    "    word_counts = {} \n",
    "    for word in text.split(\" \"): \n",
    "        if word in word_counts: \n",
    "            word_counts[word]+= 1 \n",
    "        else: \n",
    "            word_counts[word]= 1 \n",
    "    return word_counts"
   ]
  },
  {
   "cell_type": "code",
   "execution_count": 54,
   "metadata": {},
   "outputs": [],
   "source": [
    "text=\"salan olsun sizin\""
   ]
  },
  {
   "cell_type": "code",
   "execution_count": 55,
   "metadata": {},
   "outputs": [],
   "source": [
    "text = text.replace(\"n\", \"m\")"
   ]
  },
  {
   "cell_type": "code",
   "execution_count": 65,
   "metadata": {},
   "outputs": [
    {
     "data": {
      "text/plain": [
       "{'men': 3,\n",
       " 'ona': 2,\n",
       " 'dedim': 1,\n",
       " 'ki': 2,\n",
       " 'ora': 2,\n",
       " 'gederm': 1,\n",
       " 'qalsa': 1,\n",
       " 'getmek': 1}"
      ]
     },
     "execution_count": 65,
     "metadata": {},
     "output_type": "execute_result"
    }
   ],
   "source": [
    "count_words(\"men, ona dedim ki, men ora gederm ona, qalsa ora men getmek ki\")"
   ]
  },
  {
   "cell_type": "code",
   "execution_count": 68,
   "metadata": {},
   "outputs": [],
   "source": [
    "def count_words_fast(text):      #counts word frequency using Counter from collections \n",
    "    text = text.lower() \n",
    "    skips = [\".\", \", \", \":\", \";\", \"'\", '\"'] \n",
    "    for ch in skips: \n",
    "        text = text.replace(ch, \" \") \n",
    "    word_counts = Counter(text.split(\" \")) \n",
    "    return word_counts "
   ]
  },
  {
   "cell_type": "code",
   "execution_count": 69,
   "metadata": {},
   "outputs": [
    {
     "data": {
      "text/plain": [
       "Counter({'men': 3,\n",
       "         'ona': 2,\n",
       "         'dedim': 1,\n",
       "         'ki': 2,\n",
       "         'ora': 2,\n",
       "         'gederm': 1,\n",
       "         'qalsa': 1,\n",
       "         'getmek': 1})"
      ]
     },
     "execution_count": 69,
     "metadata": {},
     "output_type": "execute_result"
    }
   ],
   "source": [
    "count_words_fast(\"men, ona dedim ki, men ora gederm ona, qalsa ora men getmek ki\")"
   ]
  },
  {
   "cell_type": "code",
   "execution_count": 70,
   "metadata": {},
   "outputs": [],
   "source": [
    "#Reading Books into Python:"
   ]
  },
  {
   "cell_type": "code",
   "execution_count": 72,
   "metadata": {},
   "outputs": [],
   "source": [
    "def read_book(title_path):  #read a book and return it as a string \n",
    "    with open(title_path, \"r\", encoding =\"utf8\") as current_file: \n",
    "        text = current_file.read() \n",
    "        text = text.replace(\"\\n\", \" \").replace(\"\\r\", \" \") \n",
    "    return text "
   ]
  },
  {
   "cell_type": "code",
   "execution_count": 76,
   "metadata": {},
   "outputs": [],
   "source": [
    "#Total Unique words:\n",
    "    "
   ]
  },
  {
   "cell_type": "code",
   "execution_count": 77,
   "metadata": {},
   "outputs": [],
   "source": [
    "def word_stats(word_counts):     # word_counts = count_words_fast(text)    \n",
    "    num_unique = len(word_counts) \n",
    "    counts = word_counts.values() \n",
    "    return (num_unique, counts) "
   ]
  },
  {
   "cell_type": "code",
   "execution_count": 74,
   "metadata": {},
   "outputs": [
    {
     "ename": "SyntaxError",
     "evalue": "EOL while scanning string literal (<ipython-input-74-2cbbc8598748>, line 1)",
     "output_type": "error",
     "traceback": [
      "\u001b[0;36m  File \u001b[0;32m\"<ipython-input-74-2cbbc8598748>\"\u001b[0;36m, line \u001b[0;32m1\u001b[0m\n\u001b[0;31m    read_book(\"Salam Fuad, artıq yeni həyata başlamaq üzrəsən. Bu məktəbdə gördüyün və kitablardan oxuduğun həyat deyil, daha amansızdı. Vaxt sürətlə keçir. Üzməyi öyrənmək üçün daha 4 ilin var. Ondan sonra səni dərayaya atacaqlar. Mütləq üzməyi bacarmalısan. Gəmi və qayıqlar da var, amma səni ora buraxmaya da bilərlər.\u001b[0m\n\u001b[0m                                                                                                                                                                                                                                                                                                                                  ^\u001b[0m\n\u001b[0;31mSyntaxError\u001b[0m\u001b[0;31m:\u001b[0m EOL while scanning string literal\n"
     ]
    }
   ],
   "source": [
    "read_book(\"Salam Fuad, artıq yeni həyata başlamaq üzrəsən. Bu məktəbdə gördüyün və kitablardan oxuduğun həyat deyil, daha amansızdı. Vaxt sürətlə keçir. Üzməyi öyrənmək üçün daha 4 ilin var. Ondan sonra səni dərayaya atacaqlar. Mütləq üzməyi bacarmalısan. Gəmi və qayıqlar da var, amma səni ora buraxmaya da bilərlər. \n",
    "Adamlar nəsihəti xoşlamırlar, amma ən yaxşı kömək vaxtında verilən məsləhətdi. 30 yaşım olan da bir kitab oxudum, dedim kaş 20 yaşım olanda oxuyardım. Həyatımın axarı dəyişərdi. Bəzən sənə lazım olan biliyi vaxtı keçəndən sonra tapırsan. Sənə bunu yazmağımın səbəbi budur ki, nə vaxtsa kaş əvvəldən biləydim deməyəsən. \n",
    "1.Mütləq yaxın və uzaq gələcəklə bağlı planın olamlıdır və bunu yazmalısan kiçik məqsədlər şəkilində.Yazmasan unudacaqsan və ardıcıllıq itəcək. Həmişə beynində olmalıdır ki, 5 ildən sonra mən harda və kim olacam. Buna çatmaq üçün kiçik addımlar il, ay və günlər üzrə. Dəqiq plan olmasa uğur olmayacaq!.\n",
    "2. Özündə bacarıqlar yarad, məni nəyi bilirəm yox, mən nə bacarıram daha vacibdir. Bir peşəni mükəmməl öyrən. Məsələn çoxlu kitab oxumaq nəyisə bilmək deyil, sənin bunun əsasında nə bacarırsan və cəmiyyətə nə təqdim edirsən. Bacarıq peşə deməkdir. Peşə səni hər yerdə insanlara faydalı edəcək. Nə olursa olsun nəyisə mükəmməl bilməlisən.\n",
    "\")"
   ]
  },
  {
   "cell_type": "code",
   "execution_count": 78,
   "metadata": {},
   "outputs": [],
   "source": [
    "#Plotting Characteristic Features of Books"
   ]
  },
  {
   "cell_type": "code",
   "execution_count": 79,
   "metadata": {},
   "outputs": [
    {
     "ename": "FileNotFoundError",
     "evalue": "[Errno 2] No such file or directory: './Books'",
     "output_type": "error",
     "traceback": [
      "\u001b[0;31m---------------------------------------------------------------------------\u001b[0m",
      "\u001b[0;31mFileNotFoundError\u001b[0m                         Traceback (most recent call last)",
      "\u001b[0;32m<ipython-input-79-1a3837c82c50>\u001b[0m in \u001b[0;36m<module>\u001b[0;34m\u001b[0m\n\u001b[1;32m      3\u001b[0m \u001b[0;34m\u001b[0m\u001b[0m\n\u001b[1;32m      4\u001b[0m \u001b[0mbook_dir\u001b[0m \u001b[0;34m=\u001b[0m \u001b[0;34m\"./Books\"\u001b[0m\u001b[0;34m\u001b[0m\u001b[0;34m\u001b[0m\u001b[0m\n\u001b[0;32m----> 5\u001b[0;31m \u001b[0mos\u001b[0m\u001b[0;34m.\u001b[0m\u001b[0mlistdir\u001b[0m\u001b[0;34m(\u001b[0m\u001b[0mbook_dir\u001b[0m\u001b[0;34m)\u001b[0m\u001b[0;34m\u001b[0m\u001b[0;34m\u001b[0m\u001b[0m\n\u001b[0m\u001b[1;32m      6\u001b[0m \u001b[0;34m\u001b[0m\u001b[0m\n\u001b[1;32m      7\u001b[0m \u001b[0mstats\u001b[0m \u001b[0;34m=\u001b[0m \u001b[0mpd\u001b[0m\u001b[0;34m.\u001b[0m\u001b[0mDataFrame\u001b[0m\u001b[0;34m(\u001b[0m\u001b[0mcolumns\u001b[0m \u001b[0;34m=\u001b[0m\u001b[0;34m(\u001b[0m\u001b[0;34m\"language\"\u001b[0m\u001b[0;34m,\u001b[0m \u001b[0;34m\"author\"\u001b[0m\u001b[0;34m,\u001b[0m \u001b[0;34m\"title\"\u001b[0m\u001b[0;34m,\u001b[0m \u001b[0;34m\"length\"\u001b[0m\u001b[0;34m,\u001b[0m \u001b[0;34m\"unique\"\u001b[0m\u001b[0;34m)\u001b[0m\u001b[0;34m)\u001b[0m\u001b[0;34m\u001b[0m\u001b[0;34m\u001b[0m\u001b[0m\n",
      "\u001b[0;31mFileNotFoundError\u001b[0m: [Errno 2] No such file or directory: './Books'"
     ]
    }
   ],
   "source": [
    "import os \n",
    "import pandas as pd \n",
    "  \n",
    "book_dir = \"./Books\"\n",
    "os.listdir(book_dir) \n",
    "  \n",
    "stats = pd.DataFrame(columns =(\"language\", \"author\", \"title\", \"length\", \"unique\")) \n",
    "# check >>>stats \n",
    "title_num = 1\n",
    "for language in os.listdir(book_dir): \n",
    "    for author in os.listdir(book_dir+\"/\"+language): \n",
    "        for title in os.listdir(book_dir+\"/\"+language+\"/\"+author): \n",
    "            inputfile = book_dir+\"/\"+language+\"/\"+author+\"/\"+title \n",
    "            print(inputfile) \n",
    "            text = read_book(inputfile) \n",
    "            (num_unique, counts) = word_stats(count_words_fast(text)) \n",
    "            stats.loc[title_num]= language, author.capitalize(), title.replace(\".txt\", \"\"),  \n",
    "            sum(counts), num_unique \n",
    "            title_num+= 1\n",
    "import matplotlib.pyplot as plt \n",
    "plt.plot(stats.length, stats.unique, \"bo-\") \n",
    "  \n",
    "plt.loglog(stats.length, stats.unique, \"ro\") \n",
    "  \n",
    "stats[stats.language ==\"English\"] #to check information on english books \n",
    "     \n",
    "plt.figure(figsize =(10, 10)) \n",
    "subset = stats[stats.language ==\"English\"] \n",
    "plt.loglog(subset.length, subset.unique, \"o\", label =\"English\", color =\"crimson\") \n",
    "subset = stats[stats.language ==\"French\"] \n",
    "plt.loglog(subset.length, subset.unique, \"o\", label =\"French\", color =\"forestgreen\") \n",
    "subset = stats[stats.language ==\"German\"] \n",
    "plt.loglog(subset.length, subset.unique, \"o\", label =\"German\", color =\"orange\") \n",
    "subset = stats[stats.language ==\"Portuguese\"] \n",
    "plt.loglog(subset.length, subset.unique, \"o\", label =\"Portuguese\", color =\"blueviolet\") \n",
    "plt.legend() \n",
    "plt.xlabel(\"Book Length\") \n",
    "plt.ylabel(\"Number of Unique words\") \n",
    "plt.savefig(\"fig.pdf\") \n",
    "plt.show() "
   ]
  },
  {
   "cell_type": "code",
   "execution_count": null,
   "metadata": {},
   "outputs": [],
   "source": []
  }
 ],
 "metadata": {
  "kernelspec": {
   "display_name": "Python 3",
   "language": "python",
   "name": "python3"
  },
  "language_info": {
   "codemirror_mode": {
    "name": "ipython",
    "version": 3
   },
   "file_extension": ".py",
   "mimetype": "text/x-python",
   "name": "python",
   "nbconvert_exporter": "python",
   "pygments_lexer": "ipython3",
   "version": "3.7.1"
  }
 },
 "nbformat": 4,
 "nbformat_minor": 2
}
